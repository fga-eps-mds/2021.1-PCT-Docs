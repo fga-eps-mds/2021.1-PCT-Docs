{
 "cells": [
  {
   "cell_type": "markdown",
   "metadata": {},
   "source": [
    "# Analytics"
   ]
  },
  {
   "cell_type": "markdown",
   "metadata": {},
   "source": [
    "#### Date: 2021/02\n",
    "\n",
    "#### SUMMARY:\n",
    "\n",
    "- This notebook represents the project quality analysis of the date exposed right above. "
   ]
  },
  {
   "cell_type": "markdown",
   "metadata": {},
   "source": [
    "### TEAM: Povos e Comunidades Tradicionais\n",
    "\n",
    "##### Semester: 2021/01\n",
    "##### Professor: Hilmer Neri\n",
    "\n",
    "##### Members:\n",
    "\n",
    "- Caio Vinicius F. de Araujo\n",
    "- Guilherme Mendes Pereira\n",
    "- Julio Cesar Litwin Lima\n",
    "- Lucas Gomes de Oliveira\n",
    "- Lucas Gomes Silva\n",
    "- Lucas Maciel Aguiar\n",
    "- Miguel Henrique de O. Alves"
   ]
  },
  {
   "cell_type": "markdown",
   "metadata": {},
   "source": [
    "### LIBRARIES"
   ]
  },
  {
   "cell_type": "code",
   "execution_count": null,
   "metadata": {},
   "outputs": [],
   "source": [
    "# Deal with data\n",
    "import pandas as pd\n",
    "import numpy as np\n",
    "import json\n",
    "from glob import glob\n",
    "import os\n",
    "\n",
    "# Deal with API request\n",
    "import urllib3\n",
    "from urllib3 import request\n",
    "\n",
    "# Deal with visualization\n",
    "import seaborn as sns\n",
    "import matplotlib.pyplot as plt\n",
	"\n",
	"# Deal with time\n",
    "import datetime"
   ]
  },
  {
   "cell_type": "markdown",
   "metadata": {},
   "source": [
    "### GRAPH SETTINGS"
   ]
  },
  {
   "cell_type": "code",
   "execution_count": null,
   "metadata": {},
   "outputs": [],
   "source": [
    "%config InlineBackend.figure_format ='retina'\n",
    "sns.set(font_scale=1.5)\n",
    "sns.set_style('darkgrid',\n",
    "              {'xtick.bottom' : True,\n",
    "               'ytick.left': True,\n",
    "               'grid.linestyle':'--',\n",
    "               'font.monospace': ['Computer Modern Typewriter'],\n",
    "               'axes.edgecolor' : 'white'})"
   ]
  },
  {
   "cell_type": "markdown",
   "metadata": {},
   "source": [
    "### DATAFRAME SETTINGS"
   ]
  },
  {
   "cell_type": "code",
   "execution_count": null,
   "metadata": {},
   "outputs": [],
   "source": [
    "pd.set_option(\"display.max_rows\", None, \"display.max_columns\", None)"
   ]
  },
  {
   "cell_type": "markdown",
   "metadata": {},
   "source": [
    "### SonarCloud"
   ]
  },
  {
   "cell_type": "markdown",
   "metadata": {},
   "source": [
    "##### Path to the folder with all your jsons"
   ]
  },
  {
   "cell_type": "code",
   "execution_count": null,
   "metadata": {},
   "outputs": [],
   "source": [
    "jsons = glob('../analytics-raw-data/*.json') # add the path here"
   ]
  },
  {
   "cell_type": "code",
   "execution_count": null,
   "metadata": {},
   "outputs": [],
   "source": [
    "def read_json(json_path):\n",
    "    \n",
    "    with open(json_path) as json_file:\n",
    "        json_obj = json.load(json_file)\n",
    "        \n",
    "    return json_obj\n",
    "\n",
    "def create_base_component_df(json_list):\n",
    "    \n",
    "    df = pd.DataFrame()\n",
    "\n",
    "    for i in json_list:\n",
    "\n",
    "        base_component = read_json(i)\n",
    "\n",
    "        base_component_data = base_component['baseComponent']['measures']\n",
    "\n",
    "        base_component_df = pd.DataFrame(base_component_data)\n",
    "\n",
    "        base_component_df['filename'] = os.path.basename(i)\n",
    "\n",
    "        df = df.append(base_component_df, ignore_index=True)\n",
    "        \n",
    "    aux_df = df['filename'].str.split(r\"PCTs-(.*?)-*-(.*?).json\", expand=True)\n",
    "    \n",
    "    df['repository'] = aux_df[1]\n",
    "    \n",
    "    df['version'] = aux_df[2]\n",
    "    \n",
    "    df = df.sort_values(by=['repository', 'version'])\n",
    "        \n",
    "    return df"
   ]
  },
  {
   "cell_type": "markdown",
   "metadata": {},
   "source": [
    "#### Create base component dataframe"
   ]
  },
  {
   "cell_type": "code",
   "execution_count": null,
   "metadata": {},
   "outputs": [],
   "source": [
    "base_component_df = create_base_component_df(jsons)"
   ]
  },
  {
   "cell_type": "code",
   "execution_count": null,
   "metadata": {},
   "outputs": [],
   "source": [
    "base_component_df.head(10)"
   ]
  },
  {
   "cell_type": "markdown",
   "metadata": {},
   "source": [
    "#### Create dataframe per file"
   ]
  },
  {
   "cell_type": "code",
   "execution_count": null,
   "metadata": {},
   "outputs": [],
   "source": [
    "metric_list = ['files',\n",
    "               'functions',\n",
    "               'complexity',\n",
    "               'comment_lines_density',\n",
    "               'duplicated_lines_density',\n",
    "               'coverage',\n",
    "               'ncloc',\n",
    "               'security_rating',\n",
    "               'tests',\n",
    "               'test_success_density',\n",
    "               'test_execution_time',\n",
    "               'reliability_rating']\n",
    "\n",
    "len(metric_list)"
   ]
  },
  {
   "cell_type": "code",
   "execution_count": null,
   "metadata": {},
   "outputs": [],
   "source": [
    "def metric_per_file(json):\n",
    "    \n",
    "    file_json = []\n",
    "    \n",
    "    for component in json['components']:\n",
    "        if component['qualifier'] == 'FIL':\n",
    "            file_json.append(component)\n",
    "            \n",
    "    return file_json\n",
    "\n",
    "def generate_file_dataframe_per_release(metric_list, json, language_extension):\n",
    "    \n",
    "    df_columns = metric_list\n",
    "    df = pd.DataFrame(columns = df_columns)\n",
    "    \n",
    "    for file in json:\n",
    "        try:\n",
    "            if file['language'] == language_extension:\n",
    "                for measure in file['measures']:\n",
    "                    df.at[file['path'], measure['metric']] = measure['value']\n",
    "        except:\n",
    "            pass\n",
    "        \n",
    "    df.reset_index(inplace = True)\n",
    "    df = df.rename({'index': 'path'}, axis=1).drop(['files'], axis=1)\n",
    "\n",
    "    return df\n",
    "\n",
    "def create_file_df(json_list):\n",
    "    \n",
    "    df = pd.DataFrame()\n",
    "\n",
    "    for i in json_list:\n",
    "\n",
    "        file_component = read_json(i)\n",
    "        \n",
    "        file_component_data = metric_per_file(file_component)\n",
    "\n",
    "        file_component_df_ts = generate_file_dataframe_per_release(metric_list, file_component_data, language_extension = 'ts')\n",
    "        file_component_df_ts['filename'] = os.path.basename(i)\n",
    "\n",
    "        file_component_df_js = generate_file_dataframe_per_release(metric_list, file_component_data, language_extension = 'js')\n",
    "        file_component_df_js['filename'] = os.path.basename(i)\n",
    "\n",
    "        file_component_df_py = generate_file_dataframe_per_release(metric_list, file_component_data, language_extension = 'py')\n",
    "        file_component_df_py['filename'] = os.path.basename(i)\n",
    "\n",
    "        file_component_df_yaml = generate_file_dataframe_per_release(metric_list, file_component_data, language_extension = 'yaml')\n",
    "        file_component_df_yaml['filename'] = os.path.basename(i)\n",
    "\n",
    "        df = df.append(file_component_df_ts, ignore_index=True)\n",
    "        df = df.append(file_component_df_js, ignore_index=True)\n",
    "        df = df.append(file_component_df_py, ignore_index=True)\n",
    "        df = df.append(file_component_df_yaml, ignore_index=True)\n",
    "        \n",
    "    aux_df = df['filename'].str.split(r\"PCTs-(.*?)-(.*?).json\", expand=True)\n",
    "    \n",
    "    df['repository'] = aux_df[1]\n",
    "    \n",
    "    df['version'] = aux_df[2]\n",
    "    \n",
    "    df = df.sort_values(by=['repository', 'version'])\n",
    "        \n",
    "    return df"
   ]
  },
  {
   "cell_type": "code",
   "execution_count": null,
   "metadata": {},
   "outputs": [],
   "source": [
    "file_component_df = create_file_df(jsons)"
   ]
  },
  {
   "cell_type": "code",
   "execution_count": null,
   "metadata": {},
   "outputs": [],
   "source": [
    "file_component_df.head(10)"
   ]
  },
  {
   "cell_type": "markdown",
   "metadata": {},
   "source": [
    "#### Create dataframe per repository"
   ]
  },
  {
   "cell_type": "code",
   "execution_count": null,
   "metadata": {},
   "outputs": [],
   "source": [
    "scraper_df = file_component_df[file_component_df['repository'] == 'Scraper']\n",
    "documentsapi_df = file_component_df[file_component_df['repository'] == 'Documents-API']\n",
    "mltraining_df = file_component_df[file_component_df['repository'] == 'ML-Training']\n",
    "frontend_df = file_component_df[file_component_df['repository'] == 'Frontend']\n",
    "usersapi_df = file_component_df[file_component_df['repository'] == 'Users-API']"
   ]
  },
  {
   "cell_type": "code",
   "execution_count": null,
   "outputs": [],
   "source": [
    "def _ncloc(df):\n",
    "    ncloc = 0\n",
    "    for each in df['ncloc']:\n",
	"        n = 0\n",
	"        try:\n",
    "            n = int(each)\n",
	"        except ValueError:\n",
    "            n = 0\n",
    "        ncloc += int(n)\n",
    "\n",
    "    return ncloc"
   ],
   "metadata": {
    "collapsed": false,
    "pycharm": {
     "name": "#%%\n"
    }
   }
  },
  {
   "cell_type": "markdown",
   "metadata": {},
   "source": [
    "### Measure calculations according Q-Rapids quality model"
   ]
  },
  {
   "cell_type": "markdown",
   "metadata": {},
   "source": [
    "# Quality Aspect - Maintainability\n",
    "## Factor - Code Quality"
   ]
  },
  {
   "cell_type": "markdown",
   "metadata": {},
   "source": [
    "##### COMPLEXITY"
   ]
  },
  {
   "cell_type": "code",
   "execution_count": null,
   "metadata": {},
   "outputs": [],
   "source": [
    "def m1(df):\n",
    "    \n",
    "    density_non_complex_files = len(df[(df['complexity'].astype(float)/df['functions'].astype(float)) < 10])/len(df)\n",
    "    \n",
    "    return density_non_complex_files"
   ]
  },
  {
   "cell_type": "markdown",
   "metadata": {},
   "source": [
    "##### COMMENTS"
   ]
  },
  {
   "cell_type": "code",
   "execution_count": null,
   "metadata": {},
   "outputs": [],
   "source": [
    "def m2(df):\n",
    "    \n",
    "    density_comment_files = len(df[(df['comment_lines_density'].astype(float) > 10) & (df['comment_lines_density'].astype(float) < 30)])/len(df)\n",
    "    \n",
    "    return density_comment_files"
   ]
  },
  {
   "cell_type": "markdown",
   "metadata": {},
   "source": [
    "##### DUPLICATIONS"
   ]
  },
  {
   "cell_type": "code",
   "execution_count": null,
   "metadata": {},
   "outputs": [],
   "source": [
    "def m3(df):\n",
    "    \n",
    "    duplication = len(df[(df['duplicated_lines_density'].astype(float) < 5)])/len(df)\n",
    "    \n",
    "    return duplication"
   ]
  },
  {
   "cell_type": "markdown",
   "source": [
    "# Quality Aspect - Reliability\n",
    "## Factor - Testing Status"
   ],
   "metadata": {
    "collapsed": false
   }
  },
  {
   "cell_type": "markdown",
   "source": [
    "##### Passed tests"
   ],
   "metadata": {
    "collapsed": false
   }
  },
  {
   "cell_type": "code",
   "execution_count": null,
   "outputs": [],
   "source": [
    "def m4(df):\n",
    "\n",
    "    passed_tests = df['test_success_density'].astype(float).median() / 100\n",
    "\n",
    "    return passed_tests"
   ],
   "metadata": {
    "collapsed": false,
    "pycharm": {
     "name": "#%%\n"
    }
   }
  },
  {
   "cell_type": "markdown",
   "source": [
    "##### Fast test builds"
   ],
   "metadata": {
    "collapsed": false
   }
  },
  {
   "cell_type": "code",
   "execution_count": null,
   "outputs": [],
   "source": [
    "def m5(df):\n",
    "\n",
    "    density_fast_test_builds = len(df[(df['test_execution_time'].astype(float)) < 300]) / sum(df['tests'].astype(float))\n",
    "\n",
    "    return density_fast_test_builds"
   ],
   "metadata": {
    "collapsed": false,
    "pycharm": {
     "name": "#%%\n"
    }
   }
  },
  {
   "cell_type": "markdown",
   "source": [
    "##### Test coverage"
   ],
   "metadata": {
    "collapsed": false
   }
  },
  {
   "cell_type": "code",
   "execution_count": null,
   "outputs": [],
   "source": [
    "def m6(df):\n",
    "\n",
    "    density_test_coverage = len(df[(df['coverage'].astype(float) > 60)]) / len(df)\n",
    "\n",
    "    return density_test_coverage"
   ],
   "metadata": {
    "collapsed": false,
    "pycharm": {
     "name": "#%%\n"
    }
   }
  },
  {
   "cell_type": "markdown",
   "metadata": {},
   "source": [
    "### Calculate m1, m2, m3, m4, m5 and m6 for each repository"
   ]
  },
  {
   "cell_type": "code",
   "execution_count": null,
   "metadata": {},
   "outputs": [],
   "source": [
    "def create_metrics_df(df):\n",
    "    \n",
    "    version_vec = df['version'].unique()\n",
    "    \n",
    "    m1_list = []\n",
    "    m2_list = []\n",
    "    m3_list = []\n",
    "    m4_list = []\n",
    "    m5_list = []\n",
    "    m6_list = []\n",
    "\n",
    "    ncloc_list = []\n",
    "    repository_list = []\n",
    "    version_list = []\n",
    "    \n",
    "    metrics_df = pd.DataFrame()\n",
    "    \n",
    "    for version in version_vec:\n",
    "\n",
    "        version_df = df[df['version'] == version]\n",
    "\n",
    "        m1_list.append(m1(version_df))\n",
    "        m2_list.append(m2(version_df))\n",
    "        m3_list.append(m3(version_df))\n",
    "        m4_list.append(m3(version_df))\n",
    "        m5_list.append(m3(version_df))\n",
    "        m6_list.append(m3(version_df))\n",
    "\n",
    "        ncloc_list.append(_ncloc(version_df))\n",
    "        repository_list.append(version_df['repository'].iloc[0])\n",
    "        version_list.append(version)\n",
    "        \n",
    "    metrics_df = pd.DataFrame({'m1': m1_list,\n",
    "                               'm2': m2_list,\n",
    "                               'm3': m3_list,\n",
    "                               'm4': m3_list,\n",
    "                               'm5': m3_list,\n",
    "                               'm6': m3_list,\n",
    "                               'repository': repository_list, \n",
    "                               'version': version_list,\n",
    "                               'ncloc': ncloc_list})\n",
    "        \n",
    "    return metrics_df"
   ]
  },
  {
   "cell_type": "code",
   "execution_count": null,
   "metadata": {},
   "outputs": [],
   "source": [
    "scraper_metrics = create_metrics_df(scraper_df)\n",
    "documentsapi_metrics = create_metrics_df(documentsapi_df)\n",
    "mltraining_metrics = create_metrics_df(mltraining_df)\n",
    "frontend_metrics = create_metrics_df(frontend_df)\n",
    "usersapi_metrics = create_metrics_df(usersapi_df)"
   ]
  },
  {
   "cell_type": "markdown",
   "metadata": {},
   "source": [
    "### Data visualization\n",
    "\n",
    "- You must do this for each of your repositories"
   ]
  },
  {
   "cell_type": "code",
   "execution_count": null,
   "metadata": {},
   "outputs": [],
   "source": [
    "fig = plt.figure(figsize=(20, 10))\n",
    "\n",
    "plt.plot(scraper_metrics['m1'], linewidth=3, marker='o', markersize=10)\n",
    "plt.plot(scraper_metrics['m2'], linewidth=3, marker='o', markersize=10)\n",
    "plt.plot(scraper_metrics['m3'], linewidth=3, marker='o', markersize=10)\n",
    "plt.plot(scraper_metrics['m4'], linewidth=3, marker='o', markersize=10)\n",
    "plt.plot(scraper_metrics['m5'], linewidth=3, marker='o', markersize=10)\n",
    "plt.plot(scraper_metrics['m6'], linewidth=3, marker='o', markersize=10)"
   ]
  },
  {
   "cell_type": "code",
   "execution_count": null,
   "metadata": {},
   "outputs": [],
   "source": [
    "fig = plt.figure(figsize=(20, 10))\n",
    "\n",
    "plt.plot(documentsapi_metrics['m1'], linewidth=3, marker='o', markersize=10)\n",
    "plt.plot(documentsapi_metrics['m2'], linewidth=3, marker='o', markersize=10)\n",
    "plt.plot(documentsapi_metrics['m3'], linewidth=3, marker='o', markersize=10)\n",
    "plt.plot(documentsapi_metrics['m4'], linewidth=3, marker='o', markersize=10)\n",
    "plt.plot(documentsapi_metrics['m5'], linewidth=3, marker='o', markersize=10)\n",
    "plt.plot(documentsapi_metrics['m6'], linewidth=3, marker='o', markersize=10)"
   ]
  },
  {
   "cell_type": "code",
   "execution_count": null,
   "metadata": {},
   "outputs": [],
   "source": [
    "fig = plt.figure(figsize=(20, 10))\n",
    "\n",
    "plt.plot(mltraining_metrics['m1'], linewidth=3, marker='o', markersize=10)\n",
    "plt.plot(mltraining_metrics['m2'], linewidth=3, marker='o', markersize=10)\n",
    "plt.plot(mltraining_metrics['m3'], linewidth=3, marker='o', markersize=10)\n",
    "plt.plot(mltraining_metrics['m4'], linewidth=3, marker='o', markersize=10)\n",
    "plt.plot(mltraining_metrics['m5'], linewidth=3, marker='o', markersize=10)\n",
    "plt.plot(mltraining_metrics['m6'], linewidth=3, marker='o', markersize=10)"
   ]
  },
  {
   "cell_type": "code",
   "execution_count": null,
   "metadata": {},
   "outputs": [],
   "source": [
    "fig = plt.figure(figsize=(20, 10))\n",
    "\n",
    "plt.plot(frontend_metrics['m1'], linewidth=3, marker='o', markersize=10)\n",
    "plt.plot(frontend_metrics['m2'], linewidth=3, marker='o', markersize=10)\n",
    "plt.plot(frontend_metrics['m3'], linewidth=3, marker='o', markersize=10)\n",
    "plt.plot(frontend_metrics['m4'], linewidth=3, marker='o', markersize=10)\n",
    "plt.plot(frontend_metrics['m5'], linewidth=3, marker='o', markersize=10)\n",
    "plt.plot(frontend_metrics['m6'], linewidth=3, marker='o', markersize=10)"
   ]
  },
  {
   "cell_type": "code",
   "execution_count": null,
   "outputs": [],
   "source": [
    "fig = plt.figure(figsize=(20, 10))\n",
    "\n",
    "plt.plot(usersapi_metrics['m1'], linewidth=3, marker='o', markersize=10)\n",
    "plt.plot(usersapi_metrics['m2'], linewidth=3, marker='o', markersize=10)\n",
    "plt.plot(usersapi_metrics['m3'], linewidth=3, marker='o', markersize=10)\n",
    "plt.plot(usersapi_metrics['m4'], linewidth=3, marker='o', markersize=10)\n",
    "plt.plot(usersapi_metrics['m5'], linewidth=3, marker='o', markersize=10)\n",
    "plt.plot(usersapi_metrics['m6'], linewidth=3, marker='o', markersize=10)\n",
    "\n"
   ],
   "metadata": {
    "collapsed": false,
    "pycharm": {
     "name": "#%%\n"
    }
   }
  },
  {
   "cell_type": "markdown",
   "metadata": {},
   "source": [
    "### Sub characteristic aggregation\n",
    "\n",
    "- You must do this for each of your repositories"
   ]
  },
  {
   "cell_type": "code",
   "execution_count": null,
   "metadata": {},
   "outputs": [],
   "source": [
    "psc1 = 1\n",
    "psc2 = 1\n",
    "pc1 = 0.5\n",
    "pc2 = 0.5\n",
    "pm1 = 0.33\n",
    "pm2 = 0.33\n",
    "pm3 = 0.33\n",
    "pm4 = 0.15\n",
    "pm5 = 0.15\n",
    "pm6 = 0.7\n",
    "\n",
    "scraper_metrics['code_quality'] = ((scraper_metrics['m1']*pm1) + (scraper_metrics['m2']*pm2) + (scraper_metrics['m3']*pm3)) * psc1\n",
    "documentsapi_metrics['code_quality'] = ((documentsapi_metrics['m1']*pm1) + (documentsapi_metrics['m2']*pm2) + (documentsapi_metrics['m3']*pm3)) * psc1\n",
    "mltraining_metrics['code_quality'] = ((mltraining_metrics['m1']*pm1) + (mltraining_metrics['m2']*pm2) + (mltraining_metrics['m3']*pm3)) * psc1\n",
    "frontend_metrics['code_quality'] = ((frontend_metrics['m1']*pm1) + (frontend_metrics['m2']*pm2) + (frontend_metrics['m3']*pm3)) * psc1\n",
    "usersapi_metrics['code_quality'] = ((usersapi_metrics['m1']*pm1) + (usersapi_metrics['m2']*pm2) + (usersapi_metrics['m3']*pm3)) * psc1\n",
    "\n",
    "scraper_metrics['testing_status'] = ((scraper_metrics['m4']*pm4) + (scraper_metrics['m5']*pm5) + (scraper_metrics['m6']*pm6)) * psc2\n",
    "documentsapi_metrics['testing_status'] = ((documentsapi_metrics['m4']*pm4) + (documentsapi_metrics['m5']*pm5) + (documentsapi_metrics['m6']*pm6)) * psc2\n",
    "mltraining_metrics['testing_status'] = ((mltraining_metrics['m4']*pm4) + (mltraining_metrics['m5']*pm5) + (mltraining_metrics['m6']*pm6)) * psc2\n",
    "frontend_metrics['testing_status'] = ((frontend_metrics['m4']*pm4) + (frontend_metrics['m5']*pm5) + (frontend_metrics['m6']*pm6)) * psc2\n",
    "usersapi_metrics['testing_status'] = ((usersapi_metrics['m4']*pm4) + (usersapi_metrics['m5']*pm5) + (usersapi_metrics['m6']*pm6)) * psc2\n"
   ]
  },
  {
   "cell_type": "code",
   "execution_count": null,
   "metadata": {},
   "outputs": [],
   "source": [
    "fig = plt.figure(figsize=(20, 10))\n",
    "\n",
    "\n",
    "plt.plot(scraper_metrics['code_quality'], linewidth=3, marker='o', markersize=5)\n",
    "plt.plot(documentsapi_metrics['code_quality'], linewidth=3, marker='o', markersize=5)\n",
    "plt.plot(mltraining_metrics['code_quality'], linewidth=3, marker='o', markersize=5)\n",
    "plt.plot(frontend_metrics['code_quality'], linewidth=3, marker='o', markersize=5)\n",
    "plt.plot(usersapi_metrics['code_quality'], linewidth=3, marker='o', markersize=5)\n"
   ]
  },
  {
   "cell_type": "code",
   "execution_count": null,
   "outputs": [],
   "source": [
    "fig = plt.figure(figsize=(20, 10))\n",
    "\n",
    "\n",
    "plt.plot(scraper_metrics['testing_status'], linewidth=3, marker='o', markersize=5)\n",
    "plt.plot(documentsapi_metrics['testing_status'], linewidth=3, marker='o', markersize=5)\n",
    "plt.plot(mltraining_metrics['testing_status'], linewidth=3, marker='o', markersize=5)\n",
    "plt.plot(frontend_metrics['testing_status'], linewidth=3, marker='o', markersize=5)\n",
    "plt.plot(usersapi_metrics['testing_status'], linewidth=3, marker='o', markersize=5)\n"
   ],
   "metadata": {
    "collapsed": false,
    "pycharm": {
     "name": "#%%\n"
    }
   }
  },
  {
   "cell_type": "code",
   "execution_count": null,
   "metadata": {},
   "outputs": [],
   "source": [
    "metrics_df = pd.concat([scraper_metrics, documentsapi_metrics, mltraining_metrics, frontend_metrics, usersapi_metrics], ignore_index=True)\n",
    "\n",
    "metrics_df['maintainability'] = metrics_df['code_quality'] * pc1\n",
    "metrics_df['Reliability'] = metrics_df['testing_status'] * pc2\n",
    "metrics_df['total'] = metrics_df['maintainability'] + metrics_df['Reliability']"
   ]
  },
  {
   "cell_type": "code",
   "execution_count": null,
   "metadata": {},
   "outputs": [],
   "source": [
    "metrics_df"
   ]
  },
  {
   "cell_type": "code",
   "execution_count": null,
   "metadata": {
    "pycharm": {
     "name": "#%%\n"
    }
   },
   "outputs": [],
   "source": [
    "fig = plt.figure(figsize=(20, 10))\n",
    "\n",
    "\n",
    "plt.plot(metrics_df['maintainability'], linewidth=3, marker='o', markersize=5)\n",
    "plt.plot(metrics_df['Reliability'], linewidth=3, marker='o', markersize=5)\n",
    "\n",
    "\n",
    "plt.ylim(.45,.7)"
   ]
  },
  {
   "cell_type": "code",
   "execution_count": null,
   "metadata": {
    "pycharm": {
     "name": "#%%\n"
    }
   },
   "outputs": [],
   "source": [
    "fig = plt.figure(figsize=(20, 10))\n",
    "\n",
    "\n",
    "plt.plot(metrics_df['total'], linewidth=3, marker='o', markersize=5)\n",
    "\n",
    "\n",
    "plt.ylim(.45,.7)\n"
   ]
  },
  {
   "cell_type": "code",
   "execution_count": null,
   "metadata": {},
   "outputs": [],
   "source": [
    "# ANALYSIS_DATE FORMAT: MM-DD-YYYY\n",
    "currentTime = datetime.datetime.now().strftime(\"%d-%m-%Y\")\n",
    "\n",
    "metrics_df.to_excel('./data/fga-eps-mds-2021_1-PCTs-DATASET-{}.xlsx'.format(currentTime), index = False)\n",
    "metrics_df.to_csv('./data/fga-eps-mds-2021_1-PCTs-DATASET-{}.csv'.format(currentTime), index = False)"
   ]
  }
 ],
 "metadata": {
  "kernelspec": {
   "display_name": "Python 3",
   "language": "python",
   "name": "python3"
  },
  "language_info": {
   "codemirror_mode": {
    "name": "ipython",
    "version": 3
   },
   "file_extension": ".py",
   "mimetype": "text/x-python",
   "name": "python",
   "nbconvert_exporter": "python",
   "pygments_lexer": "ipython3",
   "version": "3.8.5"
  }
 },
 "nbformat": 4,
 "nbformat_minor": 4
}